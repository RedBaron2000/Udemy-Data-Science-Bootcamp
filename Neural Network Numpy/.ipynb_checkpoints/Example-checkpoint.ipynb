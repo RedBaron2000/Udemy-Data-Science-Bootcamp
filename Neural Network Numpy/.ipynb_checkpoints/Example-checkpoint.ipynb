{
 "cells": [
  {
   "cell_type": "markdown",
   "id": "92283c6a",
   "metadata": {},
   "source": [
    "## Simple Linear regression. Minimal example"
   ]
  },
  {
   "cell_type": "markdown",
   "id": "023f454e",
   "metadata": {},
   "source": [
    "### Import the relevane libraries"
   ]
  },
  {
   "cell_type": "code",
   "execution_count": 1,
   "id": "6b0919f9",
   "metadata": {},
   "outputs": [],
   "source": [
    "import numpy as np\n",
    "import matplotlib.pyplot as plt\n",
    "from mpl_toolkits.mplot3d import Axes3D\n",
    "import seaborn as sns\n",
    "sns.set()"
   ]
  },
  {
   "cell_type": "markdown",
   "id": "599104f3",
   "metadata": {},
   "source": [
    "### Generate random input data to train on"
   ]
  },
  {
   "cell_type": "code",
   "execution_count": 2,
   "id": "8836ee8b",
   "metadata": {},
   "outputs": [
    {
     "name": "stdout",
     "output_type": "stream",
     "text": [
      "(1000, 2)\n"
     ]
    }
   ],
   "source": [
    "observations = 1000\n",
    "\n",
    "xs = np.random.uniform(low=-10,high=10, size = (observations,1))\n",
    "zs = np.random.uniform(-10,10,(observations,1))\n",
    "\n",
    "inputs = np.column_stack((xs,zs))\n",
    "\n",
    "print(inputs.shape)"
   ]
  },
  {
   "cell_type": "markdown",
   "id": "8146966c",
   "metadata": {},
   "source": [
    "### Create the targets we will aim at"
   ]
  },
  {
   "cell_type": "code",
   "execution_count": 3,
   "id": "9ef14b44",
   "metadata": {},
   "outputs": [
    {
     "data": {
      "text/plain": [
       "(1000, 1)"
      ]
     },
     "execution_count": 3,
     "metadata": {},
     "output_type": "execute_result"
    }
   ],
   "source": [
    "noise = np.random.uniform(-1,1,(observations,1))\n",
    "\n",
    "targets = 2*xs - 3*zs + 5 + noise\n",
    "\n",
    "targets.shape"
   ]
  },
  {
   "cell_type": "markdown",
   "id": "ec97e79c",
   "metadata": {},
   "source": [
    "### Plot the training data"
   ]
  },
  {
   "cell_type": "code",
   "execution_count": 9,
   "id": "8d5d7eed",
   "metadata": {},
   "outputs": [
    {
     "data": {
      "image/png": "[encoded data removed]",
      "text/plain": [
       "<Figure size 432x288 with 1 Axes>"
      ]
     },
     "metadata": {},
     "output_type": "display_data"
    }
   ],
   "source": [
    "targets = targets.reshape(observations,)\n",
    "xs = xs.reshape(observations,)\n",
    "zs = zs.reshape(observations,)\n",
    "\n",
    "fig = plt.figure()\n",
    "ax = fig.add_subplot(111, projection='3d')\n",
    "ax.plot(xs, zs, targets)\n",
    "ax.set_xlabel('xs')\n",
    "ax.set_ylabel('zs')\n",
    "ax.set_zlabel('Targets')\n",
    "ax.view_init(azim=100)\n",
    "plt.show()\n",
    "\n",
    "targets = targets.reshape(observations,1)\n",
    "xs = xs.reshape(observations,1)\n",
    "zs = zs.reshape(observations,1)"
   ]
  },
  {
   "cell_type": "code",
   "execution_count": null,
   "id": "ceda9a3a",
   "metadata": {},
   "outputs": [],
   "source": []
  },
  {
   "cell_type": "markdown",
   "id": "aead507c",
   "metadata": {},
   "source": [
    "### Initialize variable"
   ]
  },
  {
   "cell_type": "code",
   "execution_count": 11,
   "id": "a40703ff",
   "metadata": {},
   "outputs": [
    {
     "name": "stdout",
     "output_type": "stream",
     "text": [
      "[[ 0.04303988]\n",
      " [-0.08411624]]\n",
      "[-0.09783907]\n"
     ]
    }
   ],
   "source": [
    "init_range = 0.1\n",
    "\n",
    "weights = np.random.uniform(-init_range,init_range, size=(2,1))\n",
    "\n",
    "biases = np.random.uniform(-init_range,init_range,size=1)\n",
    "\n",
    "print(weights)\n",
    "print(biases)"
   ]
  },
  {
   "cell_type": "code",
   "execution_count": null,
   "id": "b058c52e",
   "metadata": {},
   "outputs": [],
   "source": []
  },
  {
   "cell_type": "markdown",
   "id": "f132bf34",
   "metadata": {},
   "source": [
    "### Set a learning rate"
   ]
  },
  {
   "cell_type": "code",
   "execution_count": 12,
   "id": "0d7a2cb5",
   "metadata": {},
   "outputs": [],
   "source": [
    "learning_rate = 0.02"
   ]
  },
  {
   "cell_type": "markdown",
   "id": "909c974b",
   "metadata": {},
   "source": [
    "### Train the model"
   ]
  },
  {
   "cell_type": "code",
   "execution_count": 17,
   "id": "aab8e6be",
   "metadata": {},
   "outputs": [
    {
     "name": "stdout",
     "output_type": "stream",
     "text": [
      "0.39780443824450334\n",
      "0.3888376659385006\n",
      "0.38022499076412647\n",
      "0.371952429453562\n",
      "0.36400655093713086\n",
      "0.35637445453704186\n",
      "0.349043749022252\n",
      "0.3420025324904552\n",
      "0.3352393730445309\n",
      "0.32874329023207255\n",
      "0.3225037372178746\n",
      "0.31651058366042356\n",
      "0.3107540992645928\n",
      "0.3052249379838434\n",
      "0.29991412284627766\n",
      "0.2948130313799106\n",
      "0.2899133816134971\n",
      "0.2852072186301825\n",
      "0.28068690165215243\n",
      "0.27634509163530596\n",
      "0.2721747393538156\n",
      "0.2681690739552258\n",
      "0.2643215919675109\n",
      "0.26062604674024326\n",
      "0.25707643830272753\n",
      "0.2536670036226396\n",
      "0.250392207249346\n",
      "0.24724673232672348\n",
      "0.24422547196087765\n",
      "0.24132352092875217\n",
      "0.2385361677141615\n",
      "0.2358588868583238\n",
      "0.23328733161246692\n",
      "0.23081732688058645\n",
      "0.2284448624408891\n",
      "0.22616608643492425\n",
      "0.2239772991138283\n",
      "0.22187494683152859\n",
      "0.21985561627515512\n",
      "0.217916028923295\n",
      "0.21605303572308673\n",
      "0.21426361197751898\n",
      "0.2125448524346262\n",
      "0.21089396657061443\n",
      "0.2093082740592544\n",
      "0.20778520042018828\n",
      "0.20632227283908444\n",
      "0.20491711615285454\n",
      "0.20356744899341328\n",
      "0.20227108008372133\n",
      "0.20102590468009685\n",
      "0.19982990115502033\n",
      "0.19868112771488375\n",
      "0.19757771924735476\n",
      "0.19651788429324107\n",
      "0.1954999021379322\n",
      "0.1945221200177017\n",
      "0.1935829504363332\n",
      "0.1926808685877103\n",
      "0.19181440988018972\n",
      "0.19098216755873737\n",
      "0.1901827904209644\n",
      "0.1894149806233571\n",
      "0.18867749157414085\n",
      "0.1879691259093514\n",
      "0.18728873354883308\n",
      "0.18663520982900492\n",
      "0.18600749370936392\n",
      "0.18540456604981279\n",
      "0.18482544795601602\n",
      "0.1842691991900989\n",
      "0.18373491664410585\n",
      "0.18322173287374371\n",
      "0.1827288146900252\n",
      "0.18225536180653126\n",
      "0.18180060554009048\n",
      "0.1813638075627688\n",
      "0.18094425870314443\n",
      "0.1805412777949188\n",
      "0.18015421057099715\n",
      "0.17978242860124066\n",
      "0.17942532827216695\n",
      "0.17908232980694289\n",
      "0.17875287632407627\n",
      "0.17843643293328143\n",
      "0.17813248586704794\n",
      "0.1778405416465038\n",
      "0.1775601262802187\n",
      "0.17729078449464658\n",
      "0.177032078994958\n",
      "0.17678358975506164\n",
      "0.17654491333566355\n",
      "0.1763156622292558\n",
      "0.176095464230971\n",
      "0.17588396183428318\n",
      "0.17568081165057048\n",
      "0.17548568385160096\n",
      "0.1752982616340332\n",
      "0.17511824070506524\n",
      "0.1749453287883935\n"
     ]
    }
   ],
   "source": [
    "for i in range(100):\n",
    "    outputs = np.dot(inputs,weights) + biases\n",
    "    deltas = outputs - targets\n",
    "    \n",
    "    loss = np.sum(deltas**2)/ 2 / observations\n",
    "    \n",
    "    print(loss)\n",
    "    \n",
    "    deltas_scaled = deltas / observations\n",
    "    \n",
    "    weights = weights - learning_rate * np.dot(inputs.T,deltas_scaled)\n",
    "    biases = biases - learning_rate * np.sum(deltas_scaled)\n",
    "    \n",
    "    "
   ]
  },
  {
   "cell_type": "markdown",
   "id": "984a8749",
   "metadata": {},
   "source": [
    "### Print weights and biases to see if we have worked correctly"
   ]
  },
  {
   "cell_type": "code",
   "execution_count": 18,
   "id": "f05442cb",
   "metadata": {},
   "outputs": [
    {
     "name": "stdout",
     "output_type": "stream",
     "text": [
      "[[ 1.9992472 ]\n",
      " [-2.99355241]] [4.90520978]\n"
     ]
    }
   ],
   "source": [
    "print(weights,biases)"
   ]
  },
  {
   "cell_type": "markdown",
   "id": "b31eea02",
   "metadata": {},
   "source": [
    "### Print last outputs vs targets"
   ]
  },
  {
   "cell_type": "code",
   "execution_count": 19,
   "id": "c5e02f20",
   "metadata": {},
   "outputs": [
    {
     "data": {
      "image/png": "[encoded data removed]",
      "text/plain": [
       "<Figure size 432x288 with 1 Axes>"
      ]
     },
     "metadata": {},
     "output_type": "display_data"
    }
   ],
   "source": [
    "plt.plot(outputs,targets)\n",
    "plt.xlabel('outputs')\n",
    "plt.ylabel('targets')\n",
    "plt.show()"
   ]
  },
  {
   "cell_type": "markdown",
   "id": "21869e18",
   "metadata": {},
   "source": [
    "#### closer plot is to 45 degree line closer target and output values are"
   ]
  }
 ],
 "metadata": {
  "kernelspec": {
   "display_name": "Python 3 (ipykernel)",
   "language": "python",
   "name": "python3"
  },
  "language_info": {
   "codemirror_mode": {
    "name": "ipython",
    "version": 3
   },
   "file_extension": ".py",
   "mimetype": "text/x-python",
   "name": "python",
   "nbconvert_exporter": "python",
   "pygments_lexer": "ipython3",
   "version": "3.8.11"
  }
 },
 "nbformat": 4,
 "nbformat_minor": 5
}
